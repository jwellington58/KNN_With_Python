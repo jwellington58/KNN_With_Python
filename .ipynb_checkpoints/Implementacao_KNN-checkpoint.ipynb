{
 "cells": [
  {
   "cell_type": "code",
   "execution_count": 9,
   "metadata": {},
   "outputs": [],
   "source": [
    "#Lista de amostras\n",
    "amostras = []\n",
    "with open('dataset.data.txt', 'r') as f:\n",
    "    for linha in f.readlines():\n",
    "        atrib = linha.replace('\\n', '').split(',') #pois os dados estão separados por \",\"\n",
    "        amostras.append([int(atrib[0]), int(atrib[1]), int(atrib[2]), int(atrib[3])]) #atrib[0] == IDADE, atrib[1]== ANO da CIruGIA, atrib[2] == Número de nós, atrib[3] == Classe"
   ]
  },
  {
   "cell_type": "code",
   "execution_count": 14,
   "metadata": {},
   "outputs": [],
   "source": [
    "def info_dataset(amostras, verbose=True):\n",
    "    if verbose:\n",
    "        print('Total de amostras: %d' % len(amostras))\n",
    "        \n",
    "    rotulo1, rotulo2 = 0, 0\n",
    "    for amostra in amostras:\n",
    "        if amostra[-1] == 1:\n",
    "            rotulo1 += 1\n",
    "        else:\n",
    "            rotulo2 += 1\n",
    "            \n",
    "    if verbose:\n",
    "        print('Total rotulo 1: %d' % rotulo1)\n",
    "        print('Total rotulo 2: %d' % rotulo2)\n",
    "    return [len(amostras), rotulo1, rotulo2]\n",
    "        \n",
    "        "
   ]
  },
  {
   "cell_type": "code",
   "execution_count": 15,
   "metadata": {},
   "outputs": [
    {
     "name": "stdout",
     "output_type": "stream",
     "text": [
      "Total de amostras: 306\n",
      "Total rotulo 1: 225\n",
      "Total rotulo 2: 81\n"
     ]
    },
    {
     "data": {
      "text/plain": [
       "[306, 225, 81]"
      ]
     },
     "execution_count": 15,
     "metadata": {},
     "output_type": "execute_result"
    }
   ],
   "source": [
    "info_dataset(amostras)"
   ]
  },
  {
   "cell_type": "code",
   "execution_count": 16,
   "metadata": {},
   "outputs": [
    {
     "name": "stdout",
     "output_type": "stream",
     "text": [
      "225\n"
     ]
    }
   ],
   "source": [
    "p = 0.6 #porcetagem de dados de treinamente e teste\n",
    "_, rotulo1, rotulo2 = info_dataset(amostras, verbose=False)\n"
   ]
  },
  {
   "cell_type": "code",
   "execution_count": 20,
   "metadata": {},
   "outputs": [],
   "source": [
    "treinamento, teste = [], [] #Divisão dos conjuntos de treinamento e teste\n",
    "max_rotulo1, max_rotulo2 = int(p * rotulo1), int(p * rotulo2)\n",
    "total_rotulo1, total_rotulo2 = 0, 0\n",
    "for amostra in amostras:\n",
    "    if(total_rotulo1 + total_rotulo2) < (max_rotulo1 + max_rotulo2):\n",
    "        treinamento.append(amostra)\n",
    "        if amostra[-1] == 1 and total_rotulo1 < max_rotulo1:\n",
    "            total_rotulo1 += 1\n",
    "        else:\n",
    "            total_rotulo2 +=1\n",
    "            \n",
    "    else:\n",
    "        teste.append(amostra)"
   ]
  },
  {
   "cell_type": "code",
   "execution_count": 23,
   "metadata": {},
   "outputs": [
    {
     "name": "stdout",
     "output_type": "stream",
     "text": [
      "Total de amostras: 183\n",
      "Total rotulo 1: 132\n",
      "Total rotulo 2: 51\n"
     ]
    },
    {
     "data": {
      "text/plain": [
       "[183, 132, 51]"
      ]
     },
     "execution_count": 23,
     "metadata": {},
     "output_type": "execute_result"
    }
   ],
   "source": [
    "info_dataset(treinamento)"
   ]
  },
  {
   "cell_type": "code",
   "execution_count": 24,
   "metadata": {},
   "outputs": [
    {
     "name": "stdout",
     "output_type": "stream",
     "text": [
      "Total de amostras: 123\n",
      "Total rotulo 1: 93\n",
      "Total rotulo 2: 30\n"
     ]
    },
    {
     "data": {
      "text/plain": [
       "[123, 93, 30]"
      ]
     },
     "execution_count": 24,
     "metadata": {},
     "output_type": "execute_result"
    }
   ],
   "source": [
    "info_dataset(teste)"
   ]
  },
  {
   "cell_type": "code",
   "execution_count": 27,
   "metadata": {},
   "outputs": [],
   "source": [
    "import math"
   ]
  },
  {
   "cell_type": "code",
   "execution_count": 28,
   "metadata": {},
   "outputs": [],
   "source": [
    "def dist_euclidiana(v1,v2):\n",
    "    dim, soma = len(v1), 0\n",
    "    for i in range(dim - 1): #pois o ultimo elemento da lista é a saida\n",
    "        soma += math.pow(v1[i] - v2[i],2)\n",
    "    return math.sqrt(soma)"
   ]
  },
  {
   "cell_type": "code",
   "execution_count": null,
   "metadata": {},
   "outputs": [],
   "source": [
    "def knn(treinamento, nova_amostra, k):\n",
    "    dists, tam_treino = {}, len(treinamento)\n",
    "    # calcula a distancia euclidiana  da nova amostra para\n",
    "    #todos os outros exemplos do conjunto de treinamento\n",
    "    for i in range(tam_treino):"
   ]
  }
 ],
 "metadata": {
  "kernelspec": {
   "display_name": "Python 3",
   "language": "python",
   "name": "python3"
  },
  "language_info": {
   "codemirror_mode": {
    "name": "ipython",
    "version": 3
   },
   "file_extension": ".py",
   "mimetype": "text/x-python",
   "name": "python",
   "nbconvert_exporter": "python",
   "pygments_lexer": "ipython3",
   "version": "3.6.3"
  }
 },
 "nbformat": 4,
 "nbformat_minor": 2
}
